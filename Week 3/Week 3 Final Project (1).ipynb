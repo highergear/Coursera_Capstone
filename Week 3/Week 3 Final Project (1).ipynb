{
 "cells": [
  {
   "cell_type": "markdown",
   "id": "bfe5de0b-1503-4f60-a18d-c9487049343c",
   "metadata": {},
   "source": [
    "<h1>Peer-graded Assignment: Segmenting and Clustering Neighborhoods in Toronto (Part 1)</h1>    "
   ]
  },
  {
   "cell_type": "code",
   "execution_count": 1,
   "id": "f37bc2ce-b034-49b3-8bfc-cd00bfaa1051",
   "metadata": {},
   "outputs": [],
   "source": [
    "#import the necessary library\n",
    "import pandas as pd\n",
    "import requests\n",
    "from bs4 import BeautifulSoup"
   ]
  },
  {
   "cell_type": "code",
   "execution_count": 2,
   "id": "121b7f9b-117a-4899-a4ff-fb8a2ff57ac1",
   "metadata": {},
   "outputs": [],
   "source": [
    "#get the html data from wikipedia\n",
    "url = \"https://en.wikipedia.org/wiki/List_of_postal_codes_of_Canada:_M\"\n",
    "r= requests.get(url)\n",
    "html_data = r.text"
   ]
  },
  {
   "cell_type": "code",
   "execution_count": 3,
   "id": "27e2fc5b-7818-465e-a409-e33fa4a30ed8",
   "metadata": {},
   "outputs": [],
   "source": [
    "#create a beautifulsoup object with the html data parsed\n",
    "soup = BeautifulSoup(html_data, 'html.parser')"
   ]
  },
  {
   "cell_type": "code",
   "execution_count": 4,
   "id": "15f5622e-6ffe-489a-9d75-3ccdecdc9473",
   "metadata": {},
   "outputs": [
    {
     "data": {
      "text/plain": [
       "[<td style=\"width:11%;\">\n",
       " <p>M1A<br/><span style=\"font-size:85%;\">Not assigned</span>\n",
       " </p>\n",
       " </td>,\n",
       " <td style=\"width:11%;\">\n",
       " <p>M2A<br/><span style=\"font-size:85%;\">Not assigned</span>\n",
       " </p>\n",
       " </td>,\n",
       " <td style=\"width:11%;\">\n",
       " <p>M3A<br/><span style=\"font-size:85%;\"><a href=\"/wiki/North_York\" title=\"North York\">North York</a><br/>(<a href=\"/wiki/Parkwoods\" title=\"Parkwoods\">Parkwoods</a>)</span>\n",
       " </p>\n",
       " </td>,\n",
       " <td style=\"width:11%;\">\n",
       " <p>M4A<br/><span style=\"font-size:85%;\"><a href=\"/wiki/North_York\" title=\"North York\">North York</a><br/>(<a href=\"/wiki/Victoria_Village\" title=\"Victoria Village\">Victoria Village</a>)</span>\n",
       " </p>\n",
       " </td>,\n",
       " <td style=\"width:11%;\">\n",
       " <p>M5A<br/><span style=\"font-size:85%;\"><a href=\"/wiki/Downtown_Toronto\" title=\"Downtown Toronto\">Downtown Toronto</a><br/>(<a href=\"/wiki/Regent_Park\" title=\"Regent Park\">Regent Park</a> / <a href=\"/wiki/Harbourfront,_Toronto\" title=\"Harbourfront, Toronto\">Harbourfront</a>)</span>\n",
       " </p>\n",
       " </td>]"
      ]
     },
     "execution_count": 4,
     "metadata": {},
     "output_type": "execute_result"
    }
   ],
   "source": [
    "#check the html table composition\n",
    "soup.find('tbody').findAll('td')[:5]"
   ]
  },
  {
   "cell_type": "code",
   "execution_count": 5,
   "id": "5cf8ba6f-6ccb-4072-a38e-90004f64e660",
   "metadata": {},
   "outputs": [],
   "source": [
    "#initiate a panda DataFrame to contains the scraped data\n",
    "column = ['PostalCode', 'Borough', 'Neighborhood']\n",
    "df_toronto = pd.DataFrame(columns = column)"
   ]
  },
  {
   "cell_type": "code",
   "execution_count": 6,
   "id": "0bbf48d2-3efb-4468-9ffd-2fadb205d3f5",
   "metadata": {},
   "outputs": [],
   "source": [
    "#populate the dataframe with individual data\n",
    "for row in soup.find('tbody').findAll('td'):\n",
    "    #ignore if the value of Borough is 'Not assigned'\n",
    "    if row.span.text == 'Not assigned':\n",
    "        pass\n",
    "    else:\n",
    "        postal = row.p.text[:3]\n",
    "        borough = (row.span.text).split('(')[0]    \n",
    "        neigh = (((((row.span.text).split('(')[1]).strip(')')).replace(' /',',')).replace(')',' ')).strip(' ')\n",
    "        df_toronto = df_toronto.append({'PostalCode': postal, 'Borough': borough, 'Neighborhood' : neigh}, ignore_index=True)\n",
    "    \n",
    "    "
   ]
  },
  {
   "cell_type": "code",
   "execution_count": 7,
   "id": "660cedec-b23d-4564-82ac-2c8cf03fc50e",
   "metadata": {},
   "outputs": [
    {
     "data": {
      "text/html": [
       "<div>\n",
       "<style scoped>\n",
       "    .dataframe tbody tr th:only-of-type {\n",
       "        vertical-align: middle;\n",
       "    }\n",
       "\n",
       "    .dataframe tbody tr th {\n",
       "        vertical-align: top;\n",
       "    }\n",
       "\n",
       "    .dataframe thead th {\n",
       "        text-align: right;\n",
       "    }\n",
       "</style>\n",
       "<table border=\"1\" class=\"dataframe\">\n",
       "  <thead>\n",
       "    <tr style=\"text-align: right;\">\n",
       "      <th></th>\n",
       "      <th>PostalCode</th>\n",
       "      <th>Borough</th>\n",
       "      <th>Neighborhood</th>\n",
       "    </tr>\n",
       "  </thead>\n",
       "  <tbody>\n",
       "    <tr>\n",
       "      <th>0</th>\n",
       "      <td>M3A</td>\n",
       "      <td>North York</td>\n",
       "      <td>Parkwoods</td>\n",
       "    </tr>\n",
       "    <tr>\n",
       "      <th>1</th>\n",
       "      <td>M4A</td>\n",
       "      <td>North York</td>\n",
       "      <td>Victoria Village</td>\n",
       "    </tr>\n",
       "    <tr>\n",
       "      <th>2</th>\n",
       "      <td>M5A</td>\n",
       "      <td>Downtown Toronto</td>\n",
       "      <td>Regent Park, Harbourfront</td>\n",
       "    </tr>\n",
       "    <tr>\n",
       "      <th>3</th>\n",
       "      <td>M6A</td>\n",
       "      <td>North York</td>\n",
       "      <td>Lawrence Manor, Lawrence Heights</td>\n",
       "    </tr>\n",
       "    <tr>\n",
       "      <th>4</th>\n",
       "      <td>M7A</td>\n",
       "      <td>Queen's Park</td>\n",
       "      <td>Ontario Provincial Government</td>\n",
       "    </tr>\n",
       "  </tbody>\n",
       "</table>\n",
       "</div>"
      ],
      "text/plain": [
       "  PostalCode           Borough                      Neighborhood\n",
       "0        M3A        North York                         Parkwoods\n",
       "1        M4A        North York                  Victoria Village\n",
       "2        M5A  Downtown Toronto         Regent Park, Harbourfront\n",
       "3        M6A        North York  Lawrence Manor, Lawrence Heights\n",
       "4        M7A      Queen's Park     Ontario Provincial Government"
      ]
     },
     "execution_count": 7,
     "metadata": {},
     "output_type": "execute_result"
    }
   ],
   "source": [
    "#check the dataframe\n",
    "df_toronto.head()"
   ]
  },
  {
   "cell_type": "code",
   "execution_count": 8,
   "id": "4005e691-9a83-4fea-80c8-784d693f396f",
   "metadata": {},
   "outputs": [
    {
     "data": {
      "text/html": [
       "<div>\n",
       "<style scoped>\n",
       "    .dataframe tbody tr th:only-of-type {\n",
       "        vertical-align: middle;\n",
       "    }\n",
       "\n",
       "    .dataframe tbody tr th {\n",
       "        vertical-align: top;\n",
       "    }\n",
       "\n",
       "    .dataframe thead th {\n",
       "        text-align: right;\n",
       "    }\n",
       "</style>\n",
       "<table border=\"1\" class=\"dataframe\">\n",
       "  <thead>\n",
       "    <tr style=\"text-align: right;\">\n",
       "      <th></th>\n",
       "      <th>PostalCode</th>\n",
       "      <th>Borough</th>\n",
       "      <th>Neighborhood</th>\n",
       "    </tr>\n",
       "  </thead>\n",
       "  <tbody>\n",
       "    <tr>\n",
       "      <th>count</th>\n",
       "      <td>103</td>\n",
       "      <td>103</td>\n",
       "      <td>103</td>\n",
       "    </tr>\n",
       "    <tr>\n",
       "      <th>unique</th>\n",
       "      <td>103</td>\n",
       "      <td>15</td>\n",
       "      <td>103</td>\n",
       "    </tr>\n",
       "    <tr>\n",
       "      <th>top</th>\n",
       "      <td>M9B</td>\n",
       "      <td>North York</td>\n",
       "      <td>Thorncliffe Park</td>\n",
       "    </tr>\n",
       "    <tr>\n",
       "      <th>freq</th>\n",
       "      <td>1</td>\n",
       "      <td>24</td>\n",
       "      <td>1</td>\n",
       "    </tr>\n",
       "  </tbody>\n",
       "</table>\n",
       "</div>"
      ],
      "text/plain": [
       "       PostalCode     Borough      Neighborhood\n",
       "count         103         103               103\n",
       "unique        103          15               103\n",
       "top           M9B  North York  Thorncliffe Park\n",
       "freq            1          24                 1"
      ]
     },
     "execution_count": 8,
     "metadata": {},
     "output_type": "execute_result"
    }
   ],
   "source": [
    "df_toronto.describe()"
   ]
  },
  {
   "cell_type": "code",
   "execution_count": 9,
   "id": "24025a0d-b263-4236-9224-3145b65a0894",
   "metadata": {},
   "outputs": [
    {
     "data": {
      "text/plain": [
       "(103, 3)"
      ]
     },
     "execution_count": 9,
     "metadata": {},
     "output_type": "execute_result"
    }
   ],
   "source": [
    "#replace some values of the column Borough\n",
    "df_toronto['Borough'] = df_toronto['Borough'].replace({'Downtown TorontoStn A PO Boxes25 The Esplanade':'Downtown Toronto Stn A',\n",
    "                                             'East TorontoBusiness reply mail Processing Centre969 Eastern':'East Toronto Business',\n",
    "                                             'EtobicokeNorthwest':'Etobicoke Northwest','East YorkEast Toronto':'East York/East Toronto',\n",
    "                                             'MississaugaCanada Post Gateway Processing Centre':'Mississauga'})\n",
    "\n",
    "df_toronto.shape"
   ]
  },
  {
   "cell_type": "code",
   "execution_count": 10,
   "id": "7214d498-38a4-42f8-91fc-67dae57054cb",
   "metadata": {},
   "outputs": [
    {
     "data": {
      "text/plain": [
       "False"
      ]
     },
     "execution_count": 10,
     "metadata": {},
     "output_type": "execute_result"
    }
   ],
   "source": [
    "#check of any NaN values\n",
    "df_toronto.isnull().values.any()"
   ]
  },
  {
   "cell_type": "code",
   "execution_count": 11,
   "id": "81b73c4a-6b5a-4c9b-aae0-df0be1cecfae",
   "metadata": {},
   "outputs": [
    {
     "data": {
      "text/plain": [
       "(103, 3)"
      ]
     },
     "execution_count": 11,
     "metadata": {},
     "output_type": "execute_result"
    }
   ],
   "source": [
    "#final result\n",
    "df_toronto.shape"
   ]
  }
 ],
 "metadata": {
  "kernelspec": {
   "display_name": "Python 3",
   "language": "python",
   "name": "python3"
  },
  "language_info": {
   "codemirror_mode": {
    "name": "ipython",
    "version": 3
   },
   "file_extension": ".py",
   "mimetype": "text/x-python",
   "name": "python",
   "nbconvert_exporter": "python",
   "pygments_lexer": "ipython3",
   "version": "3.9.5"
  }
 },
 "nbformat": 4,
 "nbformat_minor": 5
}
